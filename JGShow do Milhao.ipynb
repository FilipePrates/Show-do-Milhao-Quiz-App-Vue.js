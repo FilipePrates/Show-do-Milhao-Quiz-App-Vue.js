{
 "cells": [
  {
   "cell_type": "code",
   "execution_count": null,
   "metadata": {},
   "outputs": [],
   "source": [
    "import pandas as pd\n",
    "import random"
   ]
  },
  {
   "cell_type": "code",
   "execution_count": null,
   "metadata": {},
   "outputs": [],
   "source": [
    "perg = pd.read_csv(r'C:\\Users\\Filipe Prates\\Documents\\Projects\\Jovem Genios\\perguntascsv.csv')\n",
    "resp = pd.read_csv(r'C:\\Users\\Filipe Prates\\Documents\\Projects\\Jovem Genios\\respostascsv.csv')"
   ]
  },
  {
   "cell_type": "code",
   "execution_count": null,
   "metadata": {},
   "outputs": [],
   "source": [
    "pd.options.display.max_colwidth = 100"
   ]
  },
  {
   "cell_type": "code",
   "execution_count": null,
   "metadata": {},
   "outputs": [],
   "source": [
    "perg"
   ]
  },
  {
   "cell_type": "code",
   "execution_count": null,
   "metadata": {},
   "outputs": [],
   "source": [
    "def printPergunta():\n",
    "    for i in range(0,5):\n",
    "        print(perg.iloc[indexPerg+i,:].values)\n",
    "    return"
   ]
  },
  {
   "cell_type": "code",
   "execution_count": null,
   "metadata": {},
   "outputs": [],
   "source": [
    "def resposta():\n",
    "    return resp.iloc[perguntaEscolhida][-1][-1]"
   ]
  },
  {
   "cell_type": "code",
   "execution_count": null,
   "metadata": {},
   "outputs": [],
   "source": [
    "#Mockup rápido de platéia\n",
    "def votosPlateia():\n",
    "    vote1 = 0\n",
    "    vote2 = 0\n",
    "    vote3 = 0\n",
    "    vote4 = 0\n",
    "\n",
    "    randPlat1 = random.random()\n",
    "    votosPlat = 0\n",
    "    valorMinAcertoPlat = randPlat1*0.55 + 0.35\n",
    "    while(votosPlat < 100):\n",
    "        randPlat2 = random.random()\n",
    "        if randPlat2 < valorMinAcertoPlat:\n",
    "            vote1 += 1\n",
    "        else:\n",
    "            randPlat3 = random.randint(2,4)\n",
    "            if randPlat3 == 2: vote2 += 1\n",
    "            if randPlat3 == 3: vote3 += 1\n",
    "            if randPlat3 == 4: vote4 += 1\n",
    "        votosPlat += 1\n",
    "    return [vote1,vote2,vote3,vote4]"
   ]
  },
  {
   "cell_type": "code",
   "execution_count": null,
   "metadata": {
    "scrolled": true
   },
   "outputs": [],
   "source": [
    "#Flags\n",
    "perguntasFeitas = []\n",
    "enable = 1\n",
    "preco = [0,1000,2000,5000,10000,25000,50000,100000,150000,350000,750000,1000000]\n",
    "precoI = 1\n",
    "flagPlat = 1\n",
    "flag50 = 1\n",
    "flagUniver = 1\n",
    "\n",
    "\n",
    "#Intro\n",
    "print(\"Será que hoje alguém vai ganhar R$1.000.000? \\n\")\n",
    "print(\"A qualquer momento você pode escrever UNIVERSITÁRIO (U), PLATÉIA (P), ou 50/50 (50) para usar as ajudas, lembre-se que só tem uma de cada por tentativa! Boa Sorte! \\n\")\n",
    "print(\"Está pronto para jogar o jogo? Y/N \\n\")\n",
    "a = input()\n",
    "if a not in ['Sim','Y','Yes','S', 'y', 'sim', 'yes']:\n",
    "    enable = 0\n",
    "    \n",
    "#Main Loop  \n",
    "while(enable):    \n",
    "    #Win-check\n",
    "    if precoI == len(preco):\n",
    "        print('Parabéns! UM MILHÃO DE REAIS! Você acertou todas as perguntas!')\n",
    "        enable = 0\n",
    "        break\n",
    "    \n",
    "    \n",
    "    print(\"Valendo \" + str(preco[precoI]) + \" reais \\n\")\n",
    "        \n",
    "    #Escolha de Pergunta\n",
    "    checkPerguntaRepetida = 1\n",
    "    while(checkPerguntaRepetida):\n",
    "        perguntaEscolhida = random.randint(0,62)\n",
    "        if perguntaEscolhida not in perguntasFeitas:\n",
    "            perguntasFeitas.append(perguntaEscolhida)\n",
    "            checkPerguntaRepetida = 0\n",
    "            \n",
    "    indexPerg = perguntaEscolhida*5\n",
    "    printPergunta()\n",
    "    \n",
    "    #Loop Pergunta\n",
    "    aux = 1\n",
    "    while(aux):\n",
    "        print('Qual a resposta? 1/2/3/4 \\n')\n",
    "        r = input()\n",
    "        \n",
    "        #Check Ajudas\n",
    "        \n",
    "        #Universitário    \n",
    "        if r.lower() in ['universitario','universitário','universitarios','universitários','u']:\n",
    "            if flagUniver == 0:\n",
    "                print(\"Parece que você já usou essa ajuda!\")\n",
    "            else:\n",
    "                #print('#### tapa buraco enquanto arruma call de skype pro meu numero')\n",
    "                univer = random.random()\n",
    "                if univer < 0.05:\n",
    "                    respErradas = ['Humm essa é dificil, acho que é a ', 'Putz, me pegou desprevenido, chutaria a ', 'Nossa, mínima ideia, iria com a ', 'Não sei, chuto a', 'Sei la, vai na ']\n",
    "                    print(respErradas[int(univer*100)%5])\n",
    "                    print(\"alternativa \" +str(3)) if resposta() != 3 else print(\"alternativa \" +str(2))\n",
    "                if 0.05 <= univer < 0.30:\n",
    "                    respMedias = ['Acho que já vi essa! Vai na', 'Quase certeza que ja aprendi essa, acho que é ', 'Confia, eu posso tar errado mas iria na ']\n",
    "                    print(respMedias[int(univer*10)%3])\n",
    "                    if univer > 0.20:\n",
    "                        print(\"alternativa \" +resposta())\n",
    "                    else:\n",
    "                        print(str(3)) if resposta() != 3 else print(str(1))\n",
    "                if univer > 0.30:\n",
    "                    respCertas = ['Essa é da minha área! Sei que é a ', 'Pode comemorar, essa é com certeza a ', 'Ja sei! É a ']\n",
    "                    print(respCertas[int((1-univer)*10%3)])\n",
    "                    print(\"alternativa \" +resposta())\n",
    "            flagUniver = 0;\n",
    "            r = input()\n",
    "            \n",
    "        #Platéia\n",
    "        elif r.lower() in ['plateia','platéia','p']:\n",
    "            if flagPlat == 0:\n",
    "                print(\"Parece que você já usou essa ajuda!\")\n",
    "            else:   \n",
    "                plat = votosPlateia()\n",
    "                print(\"VOTOS PLATÉIA: \\n\")\n",
    "                print(\"Respostas          Votos \\n\")\n",
    "                #Jeito burro mas funciona, se tiver tempo arrumo\n",
    "                if resposta() == '1':\n",
    "                    print(\"1     \" + \"#\"*plat[0])\n",
    "                    print(\"2     \" + \"#\"*plat[1])\n",
    "                    print(\"3     \" + \"#\"*plat[2])\n",
    "                    print(\"4     \" + \"#\"*plat[3])\n",
    "                if resposta() == '2':\n",
    "                    print(\"1     \" + \"#\"*plat[1])\n",
    "                    print(\"2     \" + \"#\"*plat[0])\n",
    "                    print(\"3     \" + \"#\"*plat[2])\n",
    "                    print(\"4     \" + \"#\"*plat[3])\n",
    "                if resposta() == '3':\n",
    "                    print(\"1     \" + \"#\"*plat[2])\n",
    "                    print(\"2     \" + \"#\"*plat[1])\n",
    "                    print(\"3     \" + \"#\"*plat[0])\n",
    "                    print(\"4     \" + \"#\"*plat[3])\n",
    "                if resposta() == '4':\n",
    "                    print(\"1     \" + \"#\"*plat[3])\n",
    "                    print(\"2     \" + \"#\"*plat[1])\n",
    "                    print(\"3     \" + \"#\"*plat[2])\n",
    "                    print(\"4     \" + \"#\"*plat[0])   \n",
    "            flagPlat = 0;\n",
    "            r = input()\n",
    "            \n",
    "        #50/50, apaga 2 alternativas\n",
    "        elif r in ['50/50','50','5050']:\n",
    "            if flag50 == 0:\n",
    "                print(\"Parece que você já usou essa ajuda!\")\n",
    "            else:\n",
    "                numApagados = 0\n",
    "                for i in range(1,5):\n",
    "                    if str(i) == resposta() or numApagados >= 2:\n",
    "                        print(perg.iloc[indexPerg+i,:].values)\n",
    "                    else:\n",
    "                        print(\"############\")\n",
    "                        numApagados += 1\n",
    "            flag50 = 0;\n",
    "            r = input()\n",
    "\n",
    "            \n",
    "        print('Você tem certeza disso? Y/N \\n')\n",
    "        a = input()\n",
    "        if a in ['Sim','Y','Yes','S', 'y', 'sim', 'yes']:\n",
    "            \n",
    "            #Acerto\n",
    "            if r == resposta():\n",
    "                print('Parabéns você acertou a resposta! :) \\n')\n",
    "                \n",
    "                precoI += 1\n",
    "                \n",
    "            #Erro\n",
    "            else:\n",
    "                print('Infelizmente, escolheu a resposta errada :( \\n')\n",
    "                print('Seu premio final foi de ' + str(preco[precoI-1]) + ' reais \\n')\n",
    "                precoI = 1\n",
    "                \n",
    "                print(\"Está pronto para jogar denovo? Y/N \\n\")\n",
    "                b = input()\n",
    "                if b not in ['Sim','Y','Yes','S', 'y', 'sim', 'yes']:\n",
    "                    enable = 0\n",
    "                    \n",
    "                #Reset dos flags\n",
    "                else:\n",
    "                    flagPlat = 1\n",
    "                    flagUniver = 1\n",
    "                    flag50 = 1\n",
    "                    perguntasFeitas = []\n",
    "            aux = 0    \n",
    "                "
   ]
  },
  {
   "cell_type": "code",
   "execution_count": null,
   "metadata": {},
   "outputs": [],
   "source": [
    "perguntaEscolhida"
   ]
  },
  {
   "cell_type": "code",
   "execution_count": null,
   "metadata": {},
   "outputs": [],
   "source": [
    "indexPerg"
   ]
  },
  {
   "cell_type": "code",
   "execution_count": null,
   "metadata": {},
   "outputs": [],
   "source": [
    "resposta()"
   ]
  },
  {
   "cell_type": "code",
   "execution_count": null,
   "metadata": {},
   "outputs": [],
   "source": []
  },
  {
   "cell_type": "code",
   "execution_count": null,
   "metadata": {},
   "outputs": [],
   "source": [
    "votosPlateia()"
   ]
  },
  {
   "cell_type": "code",
   "execution_count": null,
   "metadata": {},
   "outputs": [],
   "source": []
  },
  {
   "cell_type": "code",
   "execution_count": null,
   "metadata": {},
   "outputs": [],
   "source": []
  }
 ],
 "metadata": {
  "kernelspec": {
   "display_name": "Python 3",
   "language": "python",
   "name": "python3"
  },
  "language_info": {
   "codemirror_mode": {
    "name": "ipython",
    "version": 3
   },
   "file_extension": ".py",
   "mimetype": "text/x-python",
   "name": "python",
   "nbconvert_exporter": "python",
   "pygments_lexer": "ipython3",
   "version": "3.6.6"
  }
 },
 "nbformat": 4,
 "nbformat_minor": 2
}
